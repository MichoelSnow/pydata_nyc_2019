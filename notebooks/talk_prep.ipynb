{
 "cells": [
  {
   "cell_type": "markdown",
   "metadata": {},
   "source": [
    "# Imports and Functions"
   ]
  },
  {
   "cell_type": "code",
   "execution_count": 5,
   "metadata": {
    "ExecuteTime": {
     "end_time": "2019-10-27T17:48:42.671516Z",
     "start_time": "2019-10-27T17:48:42.668699Z"
    }
   },
   "outputs": [],
   "source": [
    "import pandas as pd"
   ]
  },
  {
   "cell_type": "code",
   "execution_count": null,
   "metadata": {},
   "outputs": [],
   "source": []
  },
  {
   "cell_type": "markdown",
   "metadata": {},
   "source": [
    "# Trick Data"
   ]
  },
  {
   "cell_type": "code",
   "execution_count": 6,
   "metadata": {
    "ExecuteTime": {
     "end_time": "2019-10-27T17:49:30.402066Z",
     "start_time": "2019-10-27T17:49:22.571470Z"
    }
   },
   "outputs": [
    {
     "data": {
      "text/plain": [
       "(6970188, 15)"
      ]
     },
     "execution_count": 6,
     "metadata": {},
     "output_type": "execute_result"
    }
   ],
   "source": [
    "df_cb = pd.read_feather(\"data/citibike_data_201907-201909.feather\")\n",
    "df_data = df_cb.sample(10**5, random_state=0)\n",
    "df_cb.shape\n",
    "del df_cb"
   ]
  },
  {
   "cell_type": "code",
   "execution_count": 53,
   "metadata": {
    "ExecuteTime": {
     "end_time": "2019-10-27T23:05:50.751069Z",
     "start_time": "2019-10-27T23:05:50.678580Z"
    }
   },
   "outputs": [],
   "source": [
    "df_data = pd.read_feather(\"data/citibike_trick_data.feather\")\n",
    "df_data = df_data.reset_index(drop=True)"
   ]
  },
  {
   "cell_type": "code",
   "execution_count": 13,
   "metadata": {
    "ExecuteTime": {
     "end_time": "2019-10-27T17:52:49.743184Z",
     "start_time": "2019-10-27T17:52:49.738998Z"
    }
   },
   "outputs": [
    {
     "data": {
      "text/plain": [
       "Index(['tripduration', 'starttime', 'stoptime', 'start_station_id',\n",
       "       'start_station_name', 'start_station_latitude',\n",
       "       'start_station_longitude', 'end_station_id', 'end_station_name',\n",
       "       'end_station_latitude', 'end_station_longitude', 'bikeid', 'usertype',\n",
       "       'birth_year', 'gender'],\n",
       "      dtype='object')"
      ]
     },
     "execution_count": 13,
     "metadata": {},
     "output_type": "execute_result"
    }
   ],
   "source": [
    "df_data.columns"
   ]
  },
  {
   "cell_type": "markdown",
   "metadata": {
    "heading_collapsed": true
   },
   "source": [
    "## 1. Negative trip duration times"
   ]
  },
  {
   "cell_type": "code",
   "execution_count": 54,
   "metadata": {
    "ExecuteTime": {
     "end_time": "2019-10-27T23:05:51.847172Z",
     "start_time": "2019-10-27T23:05:51.841625Z"
    },
    "hidden": true
   },
   "outputs": [],
   "source": [
    "df_data.loc[:50,\"tripduration\"] = df_data.loc[:50,\"tripduration\"].abs()*-1"
   ]
  },
  {
   "cell_type": "markdown",
   "metadata": {
    "heading_collapsed": true
   },
   "source": [
    "## 2. Trip duration that does not match the difference between starttime and stoptime"
   ]
  },
  {
   "cell_type": "code",
   "execution_count": 55,
   "metadata": {
    "ExecuteTime": {
     "end_time": "2019-10-27T23:05:52.439539Z",
     "start_time": "2019-10-27T23:05:52.434213Z"
    },
    "hidden": true
   },
   "outputs": [],
   "source": [
    "df_data.loc[50:137, \"tripduration\"] = df_data.loc[50:137, \"tripduration\"].sample(frac=1, random_state = 1).values"
   ]
  },
  {
   "cell_type": "markdown",
   "metadata": {
    "ExecuteTime": {
     "end_time": "2019-10-27T22:58:36.856366Z",
     "start_time": "2019-10-27T22:58:36.850440Z"
    },
    "heading_collapsed": true
   },
   "source": [
    "## 3. Switching start and stop times"
   ]
  },
  {
   "cell_type": "code",
   "execution_count": 59,
   "metadata": {
    "ExecuteTime": {
     "end_time": "2019-10-27T23:06:19.370607Z",
     "start_time": "2019-10-27T23:06:19.357156Z"
    },
    "hidden": true
   },
   "outputs": [],
   "source": [
    "starttimes = df_data.loc[137:259, \"starttime\"].tolist()\n",
    "stoptimes = df_data.loc[137:259, \"stoptime\"].tolist()\n",
    "df_data.loc[137:259, \"starttime\"] = stoptimes\n",
    "df_data.loc[137:259, \"stoptime\"] = starttimes"
   ]
  },
  {
   "cell_type": "markdown",
   "metadata": {
    "heading_collapsed": true
   },
   "source": [
    "## 4. Start time is the same as the stop time"
   ]
  },
  {
   "cell_type": "code",
   "execution_count": 63,
   "metadata": {
    "ExecuteTime": {
     "end_time": "2019-10-27T23:07:18.668791Z",
     "start_time": "2019-10-27T23:07:18.661396Z"
    },
    "hidden": true
   },
   "outputs": [],
   "source": [
    "df_data.loc[259:300, \"stoptime\"] = df_data.loc[259:300, \"starttime\"]"
   ]
  },
  {
   "cell_type": "markdown",
   "metadata": {
    "heading_collapsed": true
   },
   "source": [
    "## 5. Start and stop times are out of the range of the rest of the data"
   ]
  },
  {
   "cell_type": "code",
   "execution_count": 69,
   "metadata": {
    "ExecuteTime": {
     "end_time": "2019-10-27T23:11:06.508288Z",
     "start_time": "2019-10-27T23:11:06.495394Z"
    },
    "hidden": true
   },
   "outputs": [],
   "source": [
    "df_data.loc[300:500, \"stoptime\"] = df_data.loc[300:500, \"stoptime\"].str.replace(\"2019-08\", \"2019-01\")\n",
    "df_data.loc[300:500, \"starttime\"] = df_data.loc[300:500, \"starttime\"].str.replace(\"2019-08\", \"2019-01\")"
   ]
  },
  {
   "cell_type": "markdown",
   "metadata": {
    "heading_collapsed": true
   },
   "source": [
    "## 6. Invalid Stop times"
   ]
  },
  {
   "cell_type": "code",
   "execution_count": 88,
   "metadata": {
    "ExecuteTime": {
     "end_time": "2019-10-27T23:20:19.460110Z",
     "start_time": "2019-10-27T23:20:19.451467Z"
    },
    "hidden": true
   },
   "outputs": [],
   "source": [
    "df_data.loc[501:621, \"stoptime\"] = df_data.loc[501:621, \"stoptime\"].str.replace(r\"(2019-0\\d-\\d\\d) 1(\\d)\", r\"\\1 2\\2\")"
   ]
  },
  {
   "cell_type": "markdown",
   "metadata": {
    "ExecuteTime": {
     "end_time": "2019-10-27T23:19:26.695989Z",
     "start_time": "2019-10-27T23:19:26.688925Z"
    }
   },
   "source": [
    "## 7. Move some starting and ending locations into the hudson"
   ]
  },
  {
   "cell_type": "code",
   "execution_count": 97,
   "metadata": {
    "ExecuteTime": {
     "end_time": "2019-10-28T00:49:25.039373Z",
     "start_time": "2019-10-28T00:49:25.022924Z"
    }
   },
   "outputs": [],
   "source": [
    "df_data.loc[621:641, \"start_station_id\"] = 20000\n",
    "df_data.loc[621:641, \"start_station_name\"] = \"Hudson River\"\n",
    "df_data.loc[621:641, \"start_station_latitude\"] = 40.800612\n",
    "df_data.loc[621:641, \"start_station_longitude\"] = -73.980261\n",
    "df_data.loc[641:664, \"end_station_id\"] = 20000\n",
    "df_data.loc[641:664, \"end_station_name\"] = \"Hudson River\"\n",
    "df_data.loc[641:664, \"end_station_latitude\"] = 40.800612\n",
    "df_data.loc[641:664, \"end_station_longitude\"] = -73.980261"
   ]
  },
  {
   "cell_type": "markdown",
   "metadata": {},
   "source": [
    "## 8. Change some of the station names to various versions of null"
   ]
  },
  {
   "cell_type": "code",
   "execution_count": 102,
   "metadata": {
    "ExecuteTime": {
     "end_time": "2019-10-28T01:05:01.412936Z",
     "start_time": "2019-10-28T01:05:01.396019Z"
    }
   },
   "outputs": [],
   "source": [
    "df_data.loc[665:775, \"start_station_name\"] = \"\"\n",
    "df_data.loc[775:850, \"end_station_name\"] = \"\"\n",
    "df_data.loc[851:920, \"start_station_name\"] = \"None\"\n",
    "df_data.loc[921:998, \"end_station_name\"] = \"None\""
   ]
  },
  {
   "cell_type": "markdown",
   "metadata": {},
   "source": [
    "## 9. make the same bike be in multiple places at the same time"
   ]
  },
  {
   "cell_type": "code",
   "execution_count": 133,
   "metadata": {
    "ExecuteTime": {
     "end_time": "2019-10-28T01:17:55.229151Z",
     "start_time": "2019-10-28T01:17:55.219230Z"
    }
   },
   "outputs": [],
   "source": [
    "df_data.loc[1000:1050, \"starttime\"] = df_data.loc[999, \"starttime\"]\n",
    "df_data.loc[1000:1050, \"bikeid\"] = df_data.loc[999, \"bikeid\"]"
   ]
  },
  {
   "cell_type": "markdown",
   "metadata": {},
   "source": [
    "## 10. Give one person a different gender category"
   ]
  },
  {
   "cell_type": "code",
   "execution_count": 139,
   "metadata": {
    "ExecuteTime": {
     "end_time": "2019-10-28T01:21:45.389021Z",
     "start_time": "2019-10-28T01:21:45.382689Z"
    }
   },
   "outputs": [],
   "source": [
    "df_data.loc[1051, \"gender\"] = 12"
   ]
  },
  {
   "cell_type": "markdown",
   "metadata": {
    "ExecuteTime": {
     "end_time": "2019-10-28T01:13:13.299702Z",
     "start_time": "2019-10-28T01:13:13.270150Z"
    }
   },
   "source": [
    "## 11.  Change some of the bike id's to names"
   ]
  },
  {
   "cell_type": "code",
   "execution_count": 140,
   "metadata": {
    "ExecuteTime": {
     "end_time": "2019-10-28T01:25:39.849416Z",
     "start_time": "2019-10-28T01:25:39.823943Z"
    }
   },
   "outputs": [],
   "source": [
    "df_data.loc[1052:1060, \"bikeid\"] = \"grover\"\n",
    "df_data.loc[1061:1080, \"bikeid\"] = \"l0l0\""
   ]
  },
  {
   "cell_type": "markdown",
   "metadata": {},
   "source": [
    "# Re-Shuffle the data"
   ]
  },
  {
   "cell_type": "code",
   "execution_count": 142,
   "metadata": {
    "ExecuteTime": {
     "end_time": "2019-10-28T02:05:39.623266Z",
     "start_time": "2019-10-28T02:05:39.579010Z"
    }
   },
   "outputs": [],
   "source": [
    "df_data_shuff = df_data.sample(frac=1, random_state=2).reset_index(drop=True)"
   ]
  },
  {
   "cell_type": "code",
   "execution_count": 145,
   "metadata": {
    "ExecuteTime": {
     "end_time": "2019-10-28T02:12:50.645797Z",
     "start_time": "2019-10-28T02:12:48.908280Z"
    }
   },
   "outputs": [],
   "source": [
    "df_data_shuff.to_csv(\"../downloads/citibike_data.csv\")"
   ]
  },
  {
   "cell_type": "code",
   "execution_count": null,
   "metadata": {},
   "outputs": [],
   "source": []
  },
  {
   "cell_type": "code",
   "execution_count": 11,
   "metadata": {
    "ExecuteTime": {
     "end_time": "2019-10-27T17:51:26.475056Z",
     "start_time": "2019-10-27T17:51:26.383468Z"
    }
   },
   "outputs": [],
   "source": [
    "df_data.reset_index(drop=True).to_feather(\"data/citibike_trick_data.feather\")"
   ]
  }
 ],
 "metadata": {
  "kernelspec": {
   "display_name": "Python 3",
   "language": "python",
   "name": "python3"
  },
  "language_info": {
   "codemirror_mode": {
    "name": "ipython",
    "version": 3
   },
   "file_extension": ".py",
   "mimetype": "text/x-python",
   "name": "python",
   "nbconvert_exporter": "python",
   "pygments_lexer": "ipython3",
   "version": "3.7.4"
  }
 },
 "nbformat": 4,
 "nbformat_minor": 2
}
